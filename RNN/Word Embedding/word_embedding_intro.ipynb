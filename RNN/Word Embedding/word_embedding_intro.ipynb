{
 "cells": [
  {
   "cell_type": "markdown",
   "id": "bff3d89c",
   "metadata": {},
   "source": [
    "# Input and Initializations"
   ]
  },
  {
   "cell_type": "code",
   "execution_count": 15,
   "id": "1d84bf49",
   "metadata": {},
   "outputs": [
    {
     "name": "stdout",
     "output_type": "stream",
     "text": [
      "['My name is Rajveer Mishra', 'My brother is Sahil Mishra', 'The glass of water is full', 'The cup is kept on the table']\n"
     ]
    }
   ],
   "source": [
    "# Input Sentence\n",
    "sentence_list = [\"My name is Rajveer Mishra\",\n",
    "                \"My brother is Sahil Mishra\",\n",
    "                \"The glass of water is full\",\n",
    "                \"The cup is kept on the table\"]\n",
    "print(sentence_list)"
   ]
  },
  {
   "cell_type": "code",
   "execution_count": 12,
   "id": "02beb135",
   "metadata": {},
   "outputs": [],
   "source": [
    "# Size of Dictionary\n",
    "vocab_size = 10000"
   ]
  },
  {
   "cell_type": "markdown",
   "id": "ee61f17a",
   "metadata": {},
   "source": [
    "# One Hot Representation"
   ]
  },
  {
   "cell_type": "code",
   "execution_count": 14,
   "id": "dffc3940",
   "metadata": {},
   "outputs": [
    {
     "name": "stdout",
     "output_type": "stream",
     "text": [
      "[[9962, 5436, 9069, 1748, 3256], [9962, 181, 9069, 5471, 3256], [4957, 1681, 2246, 77, 9069, 5116], [4957, 7301, 9069, 6967, 8111, 4957, 5312]]\n"
     ]
    }
   ],
   "source": [
    "from keras.preprocessing.text import one_hot\n",
    "one_hot_matrix = [one_hot(input_text= sentence, n= vocab_size) for sentence in sentence_list]\n",
    "print(one_hot_matrix)"
   ]
  },
  {
   "cell_type": "markdown",
   "id": "e883a65a",
   "metadata": {},
   "source": [
    "# Word Embedding Matrix"
   ]
  },
  {
   "cell_type": "code",
   "execution_count": 19,
   "id": "cd185ddc",
   "metadata": {},
   "outputs": [
    {
     "data": {
      "text/plain": [
       "array([[9962, 5436, 9069, 1748, 3256,    0,    0,    0,    0,    0],\n",
       "       [9962,  181, 9069, 5471, 3256,    0,    0,    0,    0,    0],\n",
       "       [4957, 1681, 2246,   77, 9069, 5116,    0,    0,    0,    0],\n",
       "       [4957, 7301, 9069, 6967, 8111, 4957, 5312,    0,    0,    0]])"
      ]
     },
     "execution_count": 19,
     "metadata": {},
     "output_type": "execute_result"
    }
   ],
   "source": [
    "from keras.models import Sequential\n",
    "from keras.layers import Embedding\n",
    "from keras.preprocessing.sequence import pad_sequences\n",
    "\n",
    "# Padding is used to overcome the difference in number of words in different sentences.\n",
    "max_sentence_length = 10\n",
    "one_hot_padded = pad_sequences(one_hot_matrix, maxlen= max_sentence_length, padding= \"post\")\n",
    "one_hot_padded"
   ]
  },
  {
   "cell_type": "code",
   "execution_count": 26,
   "id": "99c8ed69",
   "metadata": {},
   "outputs": [
    {
     "name": "stdout",
     "output_type": "stream",
     "text": [
      "Model: \"sequential_3\"\n",
      "_________________________________________________________________\n",
      " Layer (type)                Output Shape              Param #   \n",
      "=================================================================\n",
      " embedding_3 (Embedding)     (None, 10, 10)            100000    \n",
      "                                                                 \n",
      "=================================================================\n",
      "Total params: 100,000\n",
      "Trainable params: 100,000\n",
      "Non-trainable params: 0\n",
      "_________________________________________________________________\n"
     ]
    }
   ],
   "source": [
    "# Creating model \n",
    "model = Sequential()\n",
    "model.add(Embedding(input_dim= vocab_size, output_dim= 10, input_length = max_sentence_length))\n",
    "model.compile(optimizer= \"adam\", loss= \"mse\")\n",
    "model.summary()"
   ]
  },
  {
   "cell_type": "code",
   "execution_count": 27,
   "id": "8ac1979e",
   "metadata": {},
   "outputs": [
    {
     "data": {
      "text/plain": [
       "array([[ 0.03842559, -0.04348169, -0.01403166, -0.04627056,  0.01331237,\n",
       "        -0.04346553, -0.02688327,  0.04694774, -0.0226608 , -0.02535321],\n",
       "       [ 0.00879344, -0.00721637, -0.01217628,  0.0394433 , -0.03196998,\n",
       "         0.01720161, -0.03191859, -0.04972638,  0.01342595, -0.00402523],\n",
       "       [-0.03322779, -0.01405339,  0.02275426, -0.00623199,  0.02850655,\n",
       "        -0.01000119,  0.00574888,  0.01783135,  0.03775248,  0.01097391],\n",
       "       [ 0.02318743,  0.01694197,  0.04269019,  0.03867563,  0.00936629,\n",
       "         0.03073179, -0.04086391,  0.03406164,  0.02728533,  0.03484415],\n",
       "       [ 0.0311853 ,  0.00546501, -0.03016328,  0.03772118,  0.03817308,\n",
       "         0.01763776,  0.0487901 , -0.00246357,  0.03538239, -0.03754441],\n",
       "       [ 0.00151093,  0.02996318, -0.03112178,  0.02848412, -0.00847951,\n",
       "         0.03663005, -0.0244064 , -0.04282947, -0.02200555, -0.02941132],\n",
       "       [ 0.00151093,  0.02996318, -0.03112178,  0.02848412, -0.00847951,\n",
       "         0.03663005, -0.0244064 , -0.04282947, -0.02200555, -0.02941132],\n",
       "       [ 0.00151093,  0.02996318, -0.03112178,  0.02848412, -0.00847951,\n",
       "         0.03663005, -0.0244064 , -0.04282947, -0.02200555, -0.02941132],\n",
       "       [ 0.00151093,  0.02996318, -0.03112178,  0.02848412, -0.00847951,\n",
       "         0.03663005, -0.0244064 , -0.04282947, -0.02200555, -0.02941132],\n",
       "       [ 0.00151093,  0.02996318, -0.03112178,  0.02848412, -0.00847951,\n",
       "         0.03663005, -0.0244064 , -0.04282947, -0.02200555, -0.02941132]],\n",
       "      dtype=float32)"
      ]
     },
     "execution_count": 27,
     "metadata": {},
     "output_type": "execute_result"
    }
   ],
   "source": [
    "# Getting Embedding Matrix\n",
    "embedding_matrix = model.predict(one_hot_padded)\n",
    "embedding_matrix[0]"
   ]
  },
  {
   "cell_type": "code",
   "execution_count": null,
   "id": "8d00365c",
   "metadata": {},
   "outputs": [],
   "source": []
  }
 ],
 "metadata": {
  "kernelspec": {
   "display_name": "Python 3 (ipykernel)",
   "language": "python",
   "name": "python3"
  },
  "language_info": {
   "codemirror_mode": {
    "name": "ipython",
    "version": 3
   },
   "file_extension": ".py",
   "mimetype": "text/x-python",
   "name": "python",
   "nbconvert_exporter": "python",
   "pygments_lexer": "ipython3",
   "version": "3.10.4"
  }
 },
 "nbformat": 4,
 "nbformat_minor": 5
}
